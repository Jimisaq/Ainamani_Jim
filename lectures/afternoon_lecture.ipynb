{
 "cells": [
  {
   "metadata": {
    "ExecuteTime": {
     "end_time": "2025-05-21T12:31:04.038132Z",
     "start_time": "2025-05-21T12:31:04.030458Z"
    }
   },
   "cell_type": "code",
   "source": [
    "name=\"Ainamani Jim\"\n",
    "print(name)\n",
    "\n",
    "names=[\"Ainamani\", \"Jim\", \"Isaac\", \"Moses\"]\n",
    "print(names)\n",
    "\n"
   ],
   "id": "cd8750eb9ecbf9e6",
   "outputs": [
    {
     "name": "stdout",
     "output_type": "stream",
     "text": [
      "Ainamani Jim\n",
      "['Ainamani', 'Jim', 'Isaac', 'Moses']\n"
     ]
    }
   ],
   "execution_count": 14
  },
  {
   "cell_type": "code",
   "id": "initial_id",
   "metadata": {
    "collapsed": true,
    "ExecuteTime": {
     "end_time": "2025-05-21T11:48:52.288934Z",
     "start_time": "2025-05-21T11:48:52.282273Z"
    }
   },
   "source": [
    "names[1]=\"Joseph\"\n",
    "print(names)"
   ],
   "outputs": [
    {
     "name": "stdout",
     "output_type": "stream",
     "text": [
      "['Ainamani', 'Joseph', 'Isaac', 'Moses']\n"
     ]
    }
   ],
   "execution_count": 3
  },
  {
   "metadata": {
    "ExecuteTime": {
     "end_time": "2025-05-21T12:31:10.791643Z",
     "start_time": "2025-05-21T12:31:10.782948Z"
    }
   },
   "cell_type": "code",
   "source": [
    "name=\"Gloria's\"\n",
    "print(name)\n",
    "print(name.upper())\n",
    "names.insert(3,\"Jonah\")\n",
    "names.append(12)\n",
    "print(names)\n",
    "print(len(names))\n",
    "names.remove(\"Jonah\")\n",
    "print(names)\n"
   ],
   "id": "17d5627df7c1daa5",
   "outputs": [
    {
     "name": "stdout",
     "output_type": "stream",
     "text": [
      "Gloria's\n",
      "GLORIA'S\n",
      "['Ainamani', 'Jim', 'Isaac', 'Jonah', 'Moses', 12]\n",
      "6\n",
      "['Ainamani', 'Jim', 'Isaac', 'Moses', 12]\n"
     ]
    }
   ],
   "execution_count": 15
  },
  {
   "metadata": {
    "ExecuteTime": {
     "end_time": "2025-05-21T12:47:27.128551Z",
     "start_time": "2025-05-21T12:47:27.120200Z"
    }
   },
   "cell_type": "code",
   "source": [
    "dict={\n",
    "    \"name\":\"Ainamani\",\n",
    "    \"age\":20,\n",
    "    \"height\":5.5,\n",
    "    \"weight\":60\n",
    "}\n",
    "print(dict[\"name\"])\n",
    "print(dict)\n",
    "\n",
    "for key in dict.keys():\n",
    "    print(\"{}->{}\".format(key,dict[key]))\n"
   ],
   "id": "8dc8908c941ff9ef",
   "outputs": [
    {
     "name": "stdout",
     "output_type": "stream",
     "text": [
      "Ainamani\n",
      "{'name': 'Ainamani', 'age': 20, 'height': 5.5, 'weight': 60}\n",
      "name->Ainamani\n",
      "age->20\n",
      "height->5.5\n",
      "weight->60\n"
     ]
    }
   ],
   "execution_count": 21
  }
 ],
 "metadata": {
  "kernelspec": {
   "display_name": "Python 3",
   "language": "python",
   "name": "python3"
  },
  "language_info": {
   "codemirror_mode": {
    "name": "ipython",
    "version": 2
   },
   "file_extension": ".py",
   "mimetype": "text/x-python",
   "name": "python",
   "nbconvert_exporter": "python",
   "pygments_lexer": "ipython2",
   "version": "2.7.6"
  }
 },
 "nbformat": 4,
 "nbformat_minor": 5
}

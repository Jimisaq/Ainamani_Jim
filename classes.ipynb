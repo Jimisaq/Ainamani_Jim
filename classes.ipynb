{
 "cells": [
  {
   "metadata": {
    "ExecuteTime": {
     "end_time": "2025-05-27T09:21:02.522140Z",
     "start_time": "2025-05-27T09:21:02.511453Z"
    }
   },
   "cell_type": "code",
   "source": [
    "class Person:\n",
    "    def __init__(self,age,name):\n",
    "        self.age = age\n",
    "        self.name = name\n",
    "\n",
    "    def __str__(self):\n",
    "        return f\"Name: {p1.name} \\nAge: {p1.age}\"\n",
    "\n",
    "    def greet(x):\n",
    "        return f\"Hello {x.name}, how you doin?\"\n",
    "\n",
    "p1 = Person(name=\"Jim\",age=20)\n",
    "print(p1.greet())"
   ],
   "id": "5ad896dc621be664",
   "outputs": [
    {
     "name": "stdout",
     "output_type": "stream",
     "text": [
      "Hello Jim, how you doin?\n"
     ]
    }
   ],
   "execution_count": 10
  },
  {
   "cell_type": "code",
   "id": "initial_id",
   "metadata": {
    "collapsed": true,
    "ExecuteTime": {
     "end_time": "2025-05-27T10:45:08.314Z",
     "start_time": "2025-05-27T10:45:08.299658Z"
    }
   },
   "source": [
    "def kwargss(**kwargs):\n",
    "    print(kwargs)\n",
    "\n",
    "kwargss(name=\"Jim\",age=20,fav_color=\"Black\")"
   ],
   "outputs": [
    {
     "name": "stdout",
     "output_type": "stream",
     "text": [
      "{'name': 'Jim', 'age': 20, 'fav_color': 'Black'}\n"
     ]
    }
   ],
   "execution_count": 12
  }
 ],
 "metadata": {
  "kernelspec": {
   "display_name": "Python 3",
   "language": "python",
   "name": "python3"
  },
  "language_info": {
   "codemirror_mode": {
    "name": "ipython",
    "version": 2
   },
   "file_extension": ".py",
   "mimetype": "text/x-python",
   "name": "python",
   "nbconvert_exporter": "python",
   "pygments_lexer": "ipython2",
   "version": "2.7.6"
  }
 },
 "nbformat": 4,
 "nbformat_minor": 5
}
